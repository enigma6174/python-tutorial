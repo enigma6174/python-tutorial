{
 "cells": [
  {
   "cell_type": "markdown",
   "id": "0947695b-3a06-47ba-a852-bfaba37d0c96",
   "metadata": {},
   "source": [
    "# Object Oriented Programming\n",
    "\n",
    "Object oriented programming is a **programming paradigm** that provides a means of structuring programs so that **properties** and **behaviors** are bundled into individual **objects**. The following image represents the concept of object oriented programming - \n",
    "\n",
    "![object-oriented-programming](../images/objectoriented.svg)  \n",
    "\n",
    "The variables are the properties are the variables and the functions are the behaviors and the structure they are contained in is called the object. From a programming point of view, the properties *define the object* whereas the behaviors *define the actions of the object*.  \n",
    "\n",
    "For instance, an object could represent a person with **properties** like a name, age, and address and behaviors such as walking, talking, breathing, and running. Or it could represent an email with properties like a recipient list, subject, and body and behaviors like adding attachments and sending.  \n",
    "\n",
    "OOP models real-world entities as software objects that have some data associated with them and can perform certain functions\n",
    "\n",
    "### Classes vs Instances\n",
    "\n",
    "In object oriented programming, a **class** is a blueprint for how something should be defined. It doesn’t actually contain any data. It is a **template** for a user defined data structure. While the class is the blueprint, an **instance** is an object that is built from a class and contains real data. An object is therefore an actual reperesentation of the class with real time information.  \n",
    "\n",
    "In object oriented programming, an object is considered as an **instance** of the class.\n",
    "\n",
    "##### Some Examples\n",
    "\n",
    "- An animal can be considered as a class because it represents the blueprint or the template for all animals - dogs, cats, lions, cows etc. The specific animals themselves are the instances (or objects) of the animal class because they contain the actual information. When we point to something and say _this is an animal_ it does not make much sense but when we say _this is a dog_ it makes a lot of sense because of the information it conveys\n",
    "\n",
    "- An employee of an organization can be considered as a class. The employee class will have properties like `employee_id`, `joining_date`, `designation`, `salary`, `projects`, `department` etc. and behaviors like `work()`, `report()` etc. Different types of employees will have different values of these properties and behaviors. Employees of the organization can be **developers**, **testers**, **managers**, **directors** etc. and these are the objects of the employee class.\n",
    "\n",
    "- A class is like a form. An instance is like a form that has been filled out with information. Just like many people can fill out the same form with their own unique information, many instances can be created from a single class.\n",
    "\n",
    "![class-vs-instance-example](../images/instance.svg)"
   ]
  },
  {
   "cell_type": "markdown",
   "id": "8ea8abb7-92e2-4fa5-b141-8dfcf88ded42",
   "metadata": {},
   "source": [
    "## Defining A Class\n",
    "\n",
    "All class definitions start with the class keyword, which is followed by the name of the class and a colon. Any code that is indented below the class definition is considered part of the class’s body. The properties that all objects must have are defined in a method called `__init__()`. Every time a new object is created, `__init__()` sets the **initial state** of the object by assigning the values of the object’s properties.  \n",
    "\n",
    " > #### __init__() initializes each new instance of the class\n",
    " \n",
    "We can give `__init__()` any number of parameters, but the first parameter will always be a variable called `self`. When a new class instance is created, the instance is automatically passed to the self parameter in `__init__()` so that new attributes can be defined on the object.  \n",
    "\n",
    "For example: \n",
    "\n",
    "```python\n",
    "class Hello:\n",
    "    def __init__(self, some_variable):\n",
    "        self.attribute = some_variable\n",
    "```\n",
    "\n",
    "**NOTE**\n",
    "- The variables associated with a class are called **attributes**\n",
    "- The variables that are associated with the instance of a class are called **instance variables** and the variables associated directly with the class are called **class variables**\n",
    "- Functions inside a class are caled as **methods**\n",
    "\n",
    "## Instantiating Objects\n",
    "\n",
    "Creating a new object from a class is called instantiating an object. When a new object of a class is created, the Python compiler will fill in the values of the blueprint with the object specific information and store it in memory. Every object of a class is unique **even if they have the exact same data** and this is because every object of the class is stored in a unique memory address.  \n",
    "\n",
    "Any changes to any object of a class will **not affect** other objects of the class. Any changes to the class will affect **every object** of that class. \n",
    "\n",
    "To instantiate a new object of a class type the name of the class followed by the paranthesis `()` for example:  \n",
    "\n",
    "```python\n",
    "# creating an object of the class Hello\n",
    "obj = Hello(\"Hi There\")\n",
    "```  \n",
    "\n",
    "Once the objects of a class have been instantiated the attributes of that object can be accessed via the dot notation `.` for example  \n",
    "\n",
    "```python\n",
    "print(obj.attribute)\n",
    "```"
   ]
  },
  {
   "cell_type": "code",
   "execution_count": 45,
   "id": "f853db78-0eb6-4fb4-98d3-a47776623119",
   "metadata": {
    "tags": []
   },
   "outputs": [],
   "source": [
    "# Create a class Dog with two attributes - 'name' and 'age'\n",
    "class Dog:\n",
    "    \n",
    "    # Initialize the attributes of the class\n",
    "    def __init__(self, name, age):\n",
    "        self.name = name\n",
    "        self.age = age"
   ]
  },
  {
   "cell_type": "code",
   "execution_count": 49,
   "id": "0b69b6f8-de04-4620-8965-d0f4015779b2",
   "metadata": {
    "tags": []
   },
   "outputs": [
    {
     "name": "stdout",
     "output_type": "stream",
     "text": [
      "german_shepherd\n",
      "20\n"
     ]
    }
   ],
   "source": [
    "# Instantiate the objects of class Dog\n",
    "dog1 = Dog(\"german_shepherd\", 20)\n",
    "\n",
    "# Accessing the attributes of dog_1\n",
    "print(dog1.name)\n",
    "print(dog1.age)\n",
    "\n",
    "# EXERCISE\n",
    "# Instantiate an object of the class Dog and print the attributes\n",
    "# <---WRITE CODE HERE--->"
   ]
  },
  {
   "cell_type": "code",
   "execution_count": 1,
   "id": "5a38d761-1b4b-48be-a27a-3195f25a7cd2",
   "metadata": {
    "tags": []
   },
   "outputs": [],
   "source": [
    "# Create a class Employee with three attributes - 'employee_id', 'employee_name', 'joining_date'\n",
    "def Employee():\n",
    "    \n",
    "    # Initialize the attributes of the class\n",
    "    def __init__(self, eid, ename, doj):\n",
    "        self.employee_id = eid\n",
    "        self.employee_name = ename\n",
    "        self.joining_date = doj"
   ]
  },
  {
   "cell_type": "code",
   "execution_count": 50,
   "id": "ff6b11e9-474d-47a1-871e-a4d078edbc59",
   "metadata": {
    "tags": []
   },
   "outputs": [],
   "source": [
    "# EXERCISE\n",
    "# Instantiate an object of the class Employee and print the attributes\n",
    "# <---WRITE CODE HERE--->"
   ]
  },
  {
   "cell_type": "code",
   "execution_count": 2,
   "id": "cfa9f745-7abb-49d5-bd85-4d11d235ca41",
   "metadata": {
    "tags": []
   },
   "outputs": [],
   "source": [
    "# Create a class Student with three attributes - 'name', 'section', 'school'\n",
    "# The attribute 'school' should be a initialized with a default parameter\n",
    "class Student:\n",
    "    \n",
    "    # Initialize the attributes of the class\n",
    "    def __init__(self, name, section, school=\"ABC SCHOOL\"):\n",
    "        self.name = name\n",
    "        self.section = section\n",
    "        self.school = school"
   ]
  },
  {
   "cell_type": "code",
   "execution_count": 52,
   "id": "93b5460b-1de0-4937-9cbe-83ff29eec84d",
   "metadata": {
    "tags": []
   },
   "outputs": [
    {
     "name": "stdout",
     "output_type": "stream",
     "text": [
      "Bob\n",
      "A\n",
      "ABC SCHOOL\n"
     ]
    }
   ],
   "source": [
    "# Instantiating the object with default parameter\n",
    "student = Student(\"Bob\", \"A\")\n",
    "\n",
    "# Accessing the attributes\n",
    "print(student.name)\n",
    "print(student.section)\n",
    "print(student.school)"
   ]
  },
  {
   "cell_type": "code",
   "execution_count": 56,
   "id": "27b52df3-c401-4fd0-9ab6-9de6d969ee2b",
   "metadata": {
    "tags": []
   },
   "outputs": [],
   "source": [
    "# EXERCISE\n",
    "# Instantiate the object without default parameter and access the attributes\n",
    "# <---WRITE CODE HERE--->"
   ]
  },
  {
   "cell_type": "code",
   "execution_count": 92,
   "id": "c7e343f0-f1e5-4af3-8811-697207a0ed28",
   "metadata": {
    "tags": []
   },
   "outputs": [],
   "source": [
    "# Create a class HelloWorld with two fixed attributes - 'attribute_1' and 'attribute_2'\n",
    "# The class should also take a variable number of attributes if required\n",
    "class HelloWorld:\n",
    "    \n",
    "    # Initialize the attributes of the class\n",
    "    def __init__(self, var1, var2, **kwargs):\n",
    "        self.attribute_1 = var1\n",
    "        self.attribute_2 = var2\n",
    "        \n",
    "        # Initializing the variable list of attributes\n",
    "        # We can use the _setattr__() method to initialize the attributes of a class\n",
    "        for key, value in kwargs.items():\n",
    "            self.__setattr__(key, value)"
   ]
  },
  {
   "cell_type": "code",
   "execution_count": 54,
   "id": "5dfde9d7-aabb-4945-8bab-5724e809405f",
   "metadata": {
    "tags": []
   },
   "outputs": [],
   "source": [
    "d = {\"key1\": \"value1\", \"key2\": \"value2\", \"key3\": \"value3\"}\n",
    "\n",
    "# Instantiate the object with variable of attributes\n",
    "obj = HelloWorld(\"attribute\", 100, **d)"
   ]
  },
  {
   "cell_type": "code",
   "execution_count": 55,
   "id": "9a3dbdbe-fabc-47f1-bef3-bab52d6700f4",
   "metadata": {
    "tags": []
   },
   "outputs": [
    {
     "name": "stdout",
     "output_type": "stream",
     "text": [
      "attribute\n",
      "100\n",
      "value1\n",
      "value2\n",
      "value3\n"
     ]
    }
   ],
   "source": [
    "# Access the attributes of obj\n",
    "print(obj.attribute_1)\n",
    "print(obj.attribute_2)\n",
    "print(obj.key1)\n",
    "print(obj.key2)\n",
    "print(obj.key3)"
   ]
  },
  {
   "cell_type": "code",
   "execution_count": 57,
   "id": "9b8772ee-8203-4978-bae6-5b6d42c3851b",
   "metadata": {
    "tags": []
   },
   "outputs": [],
   "source": [
    "# EXERCISE\n",
    "# Instantiate the class HelloWorld() without any variable attributes and access them\n",
    "# <---WRITE CODE HERE--->"
   ]
  },
  {
   "cell_type": "code",
   "execution_count": 58,
   "id": "801531dd-453a-42fa-8438-58b0868db48d",
   "metadata": {
    "tags": []
   },
   "outputs": [],
   "source": [
    "# EXERCISE\n",
    "# Instantiate the class HelloWorld() with 4 variable attributes - key, item, date, timestamp\n",
    "# Access all the attributes of the class\n",
    "# <---WRITE CODE HERE--->"
   ]
  },
  {
   "cell_type": "code",
   "execution_count": 100,
   "id": "a364ec1c-e2e4-4d83-96a9-a679b87ea8fd",
   "metadata": {
    "tags": []
   },
   "outputs": [],
   "source": [
    "class HelloWorld:\n",
    "    \n",
    "    def __init__(self, args1, args2):\n",
    "        self.attr1 = args1\n",
    "        self.attr2 = args2\n",
    "        \n",
    "obj1 = HelloWorld(\"data\", 42)\n",
    "obj2 = HelloWorld(\"data\", 42)"
   ]
  },
  {
   "cell_type": "code",
   "execution_count": 101,
   "id": "61cff040-d8f4-4ea0-a878-c3f101f7e305",
   "metadata": {
    "tags": []
   },
   "outputs": [
    {
     "data": {
      "text/plain": [
       "False"
      ]
     },
     "execution_count": 101,
     "metadata": {},
     "output_type": "execute_result"
    }
   ],
   "source": [
    "# Compare if the objects are equal or not\n",
    "obj1 == obj2"
   ]
  },
  {
   "cell_type": "code",
   "execution_count": 102,
   "id": "847b79ea-d5d1-4477-aabc-e9eee23de54b",
   "metadata": {
    "tags": []
   },
   "outputs": [
    {
     "name": "stdout",
     "output_type": "stream",
     "text": [
      "4457570192\n",
      "4457572496\n"
     ]
    }
   ],
   "source": [
    "# Verify the memory address of obj1 using id()\n",
    "print(id(obj1))\n",
    "\n",
    "# Verify the memory address of obj2 using id()\n",
    "print(id(obj2))"
   ]
  },
  {
   "cell_type": "markdown",
   "id": "6f4c99ef-01f0-44f1-b7b8-6dbeec5e0abd",
   "metadata": {},
   "source": [
    "### Quiz\n",
    "##### Create a class **MusicalInstrument** with two attributes - `instrument_name`, `instrument_type`\n",
    "- Instantiate and access the attributes of the class"
   ]
  },
  {
   "cell_type": "code",
   "execution_count": 37,
   "id": "86288018-2e9f-4638-a3e1-fb2212e8e30c",
   "metadata": {
    "tags": []
   },
   "outputs": [],
   "source": [
    "# <---WRITE CODE HERE--->"
   ]
  },
  {
   "cell_type": "markdown",
   "id": "e75416ea-3dbc-4510-ac18-c4712095823c",
   "metadata": {},
   "source": [
    "### Quiz\n",
    "##### Create a class **Vehicle** with three attributes - `vehicle_type`, `vehicle_name`, `is_heavy`\n",
    "- The attribute `is_heavy` is initialized with a default parameter set to **False**\n",
    "- Instantiate and access the attributes of the class"
   ]
  },
  {
   "cell_type": "code",
   "execution_count": 60,
   "id": "66bbc017-fb80-42a0-aef7-ca13280cc474",
   "metadata": {
    "tags": []
   },
   "outputs": [],
   "source": [
    "# <---WRITE CODE HERE--->"
   ]
  },
  {
   "cell_type": "markdown",
   "id": "2ec72071-3e67-48c2-82fb-7d5d4e1651a8",
   "metadata": {},
   "source": [
    "### Quiz\n",
    "##### Create a class **Netflix** with three instance attributes followed by variable attributes\n",
    "- The instance attributes will be `name`, `genre`, `rating`\n",
    "- The variable attributes will have the keys - `language`, `release_date` and any other user defined keys of their choice\n",
    "- Instantiate three objects of the Netflix class - first with variable attributes, second without variable attributes and third with 5 variable attributes\n",
    "- Instantiate a fourth object of the Netflix class with the exact same data as the second object and compare both objects "
   ]
  },
  {
   "cell_type": "code",
   "execution_count": 98,
   "id": "510456b6-34b5-486e-bda9-a0579842011f",
   "metadata": {
    "tags": []
   },
   "outputs": [],
   "source": [
    "# <---WRITE CODE HERE--->"
   ]
  },
  {
   "cell_type": "markdown",
   "id": "3b9fdc98-6178-480a-acd3-70b432fa8340",
   "metadata": {
    "tags": []
   },
   "source": [
    "### Class And Instance Attributes\n",
    "- Attributes defined in `__init__()` are called instance attributes. An instance attribute’s value is specific to a particular instance of the class\n",
    "- Attributes defined outside `__init()` but inside the class are called class attributes. They have the same value for all class instances\n",
    "- Class attributes must always be assigned an initial value. When an instance of the class is created, class attributes are automatically created and assigned to their initial values\n",
    "- Class attributes are used to define properties that should have the same value for every class instance\n",
    "- Instance attributes for properties that vary from one instance to another"
   ]
  },
  {
   "cell_type": "code",
   "execution_count": 63,
   "id": "0a32f678-b1aa-4fef-bd63-641955953ef8",
   "metadata": {
    "tags": []
   },
   "outputs": [],
   "source": [
    "class Dog:\n",
    "    \n",
    "    # Class attribute\n",
    "    species = \"dog\"\n",
    "    \n",
    "    # Instance attributes\n",
    "    def __init__(self, name, age):\n",
    "        self.name = name\n",
    "        self.age = age"
   ]
  },
  {
   "cell_type": "code",
   "execution_count": 69,
   "id": "318b857c-09d8-40c9-8ec6-03cfce26f33b",
   "metadata": {
    "tags": []
   },
   "outputs": [
    {
     "name": "stdout",
     "output_type": "stream",
     "text": [
      "dog pit bull\n",
      "dog german_shepherd\n"
     ]
    }
   ],
   "source": [
    "pit_bull = Dog(\"pit bull\", 5)\n",
    "print(pit_bull.species, pit_bull.name)\n",
    "\n",
    "german_shepherd = Dog(\"german_shepherd\", 7)\n",
    "print(german_shepherd.species, german_shepherd.name)"
   ]
  },
  {
   "cell_type": "code",
   "execution_count": 72,
   "id": "abb09865-3a91-4210-9bdb-d31af91016a4",
   "metadata": {
    "tags": []
   },
   "outputs": [],
   "source": [
    "# Update the class attribute for one object\n",
    "pit_bull.species = \"cat\"\n",
    "pit_bull.name = \"BOWSER\""
   ]
  },
  {
   "cell_type": "code",
   "execution_count": 73,
   "id": "4563e7a2-5931-43e9-bcb2-d6665eaf0be5",
   "metadata": {
    "tags": []
   },
   "outputs": [
    {
     "name": "stdout",
     "output_type": "stream",
     "text": [
      "cat BOWSER\n",
      "dog german_shepherd\n"
     ]
    }
   ],
   "source": [
    "print(pit_bull.species, pit_bull.name)\n",
    "print(german_shepherd.species, german_shepherd.name)"
   ]
  },
  {
   "cell_type": "markdown",
   "id": "820e8238-d065-4c3c-a99f-392119f5cd05",
   "metadata": {
    "tags": []
   },
   "source": [
    "#### Note\n",
    "It is **not recommended** to use variable values as class attributes. Even if the class variable belongs to the class and every object of that class will have the same value for the class attribute, when the class variable is updated, the update is only applied to the object it was updated from. This is beacause at this point, the class attribute starts acting like instance attribute.  \n",
    "\n",
    "Always use class attributes for values that will remain constant for every object of the class. Refer this link for more information on class and instance attributes [class-vs-instance-attributes](https://www.toptal.com/python/python-class-attributes-an-overly-thorough-guide)"
   ]
  },
  {
   "cell_type": "code",
   "execution_count": 96,
   "id": "f3967508-3db3-4ad0-8a40-d59b31019f09",
   "metadata": {
    "tags": []
   },
   "outputs": [
    {
     "data": {
      "text/plain": [
       "{'name': 'BOWSER', 'age': 5, 'species': 'cat'}"
      ]
     },
     "execution_count": 96,
     "metadata": {},
     "output_type": "execute_result"
    }
   ],
   "source": [
    "# The __dict__ property can be used on any object to view it's properties\n",
    "pit_bull.__dict__"
   ]
  },
  {
   "cell_type": "code",
   "execution_count": 97,
   "id": "fb0bfb89-8db7-4403-8e5b-88003af06a30",
   "metadata": {
    "tags": []
   },
   "outputs": [
    {
     "data": {
      "text/plain": [
       "mappingproxy({'__module__': '__main__',\n",
       "              'species': 'dog',\n",
       "              '__init__': <function __main__.Dog.__init__(self, name, age)>,\n",
       "              '__dict__': <attribute '__dict__' of 'Dog' objects>,\n",
       "              '__weakref__': <attribute '__weakref__' of 'Dog' objects>,\n",
       "              '__doc__': None})"
      ]
     },
     "execution_count": 97,
     "metadata": {},
     "output_type": "execute_result"
    }
   ],
   "source": [
    "# The __dict__ property can be used on any class to view it's structure\n",
    "Dog.__dict__"
   ]
  },
  {
   "cell_type": "code",
   "execution_count": 35,
   "id": "8a71a696-6367-477f-bdd8-32575a0e9840",
   "metadata": {
    "tags": []
   },
   "outputs": [],
   "source": [
    "class Employee:\n",
    "    \n",
    "    # Class attributes\n",
    "    company = \"IQVIA\"\n",
    "    location = \"BLR\"\n",
    "    \n",
    "    # Instance attributes\n",
    "    def __init__(self, employee_id, employee_name):\n",
    "        self.employee_id = employee_id\n",
    "        self.employee_name = employee_name"
   ]
  },
  {
   "cell_type": "code",
   "execution_count": null,
   "id": "b04c53d4-ee2d-45ff-a861-737c2a9d9a06",
   "metadata": {},
   "outputs": [],
   "source": [
    "# EXERCISE \n",
    "# Initialize the two objects of the class Employee and access all the attributes\n",
    "# <---WRITE CODE HERE--->"
   ]
  },
  {
   "cell_type": "code",
   "execution_count": 83,
   "id": "e84592af-7daf-4bf9-8106-ef84b8a57e1d",
   "metadata": {
    "tags": []
   },
   "outputs": [],
   "source": [
    "# Update the class attribute for one of the objects and access all the attributes again\n",
    "# <---WRITE CODE HERE--->"
   ]
  },
  {
   "cell_type": "markdown",
   "id": "6a8b5f83-fcca-40aa-ada8-b3c8e83ad55c",
   "metadata": {},
   "source": [
    "#### Note\n",
    "- Class attributes are initialized at the time of **creating the class**\n",
    "- Instance attributes are initialized at the time of **creating the object of that class**"
   ]
  },
  {
   "cell_type": "code",
   "execution_count": 88,
   "id": "796e26e8-f4d2-43d6-91d7-894b4a06242a",
   "metadata": {
    "tags": []
   },
   "outputs": [
    {
     "ename": "NameError",
     "evalue": "name 'class_attribute' is not defined",
     "output_type": "error",
     "traceback": [
      "\u001b[0;31m---------------------------------------------------------------------------\u001b[0m",
      "\u001b[0;31mNameError\u001b[0m                                 Traceback (most recent call last)",
      "Cell \u001b[0;32mIn[88], line 1\u001b[0m\n\u001b[0;32m----> 1\u001b[0m \u001b[38;5;28;01mclass\u001b[39;00m \u001b[38;5;21;01mDemo\u001b[39;00m:\n\u001b[1;32m      2\u001b[0m     \n\u001b[1;32m      3\u001b[0m     \u001b[38;5;66;03m# Class attributes\u001b[39;00m\n\u001b[1;32m      4\u001b[0m     class_attribute\n\u001b[1;32m      6\u001b[0m     \u001b[38;5;66;03m# Instance attributes\u001b[39;00m\n",
      "Cell \u001b[0;32mIn[88], line 4\u001b[0m, in \u001b[0;36mDemo\u001b[0;34m()\u001b[0m\n\u001b[1;32m      1\u001b[0m \u001b[38;5;28;01mclass\u001b[39;00m \u001b[38;5;21;01mDemo\u001b[39;00m:\n\u001b[1;32m      2\u001b[0m     \n\u001b[1;32m      3\u001b[0m     \u001b[38;5;66;03m# Class attributes\u001b[39;00m\n\u001b[0;32m----> 4\u001b[0m     \u001b[43mclass_attribute\u001b[49m\n\u001b[1;32m      6\u001b[0m     \u001b[38;5;66;03m# Instance attributes\u001b[39;00m\n\u001b[1;32m      7\u001b[0m     \u001b[38;5;28;01mdef\u001b[39;00m \u001b[38;5;21m__init__\u001b[39m(\u001b[38;5;28mself\u001b[39m, var_1):\n",
      "\u001b[0;31mNameError\u001b[0m: name 'class_attribute' is not defined"
     ]
    }
   ],
   "source": [
    "class Demo:\n",
    "    \n",
    "    # Class attributes\n",
    "    class_attribute\n",
    "    \n",
    "    # Instance attributes\n",
    "    def __init__(self, var_1):\n",
    "        self.instance_attribute_1 = var_1\n",
    "        self.instance_attribute_2"
   ]
  },
  {
   "cell_type": "code",
   "execution_count": 89,
   "id": "64357269-ba51-4613-8d42-9c0d3f971bc5",
   "metadata": {
    "tags": []
   },
   "outputs": [
    {
     "ename": "TypeError",
     "evalue": "Demo.__init__() missing 1 required positional argument: 'var_2'",
     "output_type": "error",
     "traceback": [
      "\u001b[0;31m---------------------------------------------------------------------------\u001b[0m",
      "\u001b[0;31mTypeError\u001b[0m                                 Traceback (most recent call last)",
      "Cell \u001b[0;32mIn[89], line 1\u001b[0m\n\u001b[0;32m----> 1\u001b[0m demo \u001b[38;5;241m=\u001b[39m \u001b[43mDemo\u001b[49m\u001b[43m(\u001b[49m\u001b[38;5;241;43m10\u001b[39;49m\u001b[43m)\u001b[49m\n\u001b[1;32m      2\u001b[0m \u001b[38;5;28mprint\u001b[39m(demo\u001b[38;5;241m.\u001b[39minstance_attribute_1)\n\u001b[1;32m      3\u001b[0m \u001b[38;5;28mprint\u001b[39m(demo\u001b[38;5;241m.\u001b[39minstance_attribute_2)\n",
      "\u001b[0;31mTypeError\u001b[0m: Demo.__init__() missing 1 required positional argument: 'var_2'"
     ]
    }
   ],
   "source": [
    "demo = Demo(10)\n",
    "print(demo.instance_attribute_1)\n",
    "print(demo.instance_attribute_2)"
   ]
  },
  {
   "cell_type": "markdown",
   "id": "9d1827db-5591-4e2b-b3e2-c753a3214972",
   "metadata": {},
   "source": [
    "### Quiz\n",
    "Create a class **Food** with the following structure:\n",
    "- Three instance attributes - `type`, `calories`, `nutrition`\n",
    "- Two class attributes - `target_group`, `is_processed`\n",
    "- The instance variable `nutrition` should be initialized to a default list **[\"proteins\", \"carbs\", \"fat\"]**\n",
    "- The class attribute `is_processed` is a boolean value initialized to False"
   ]
  },
  {
   "cell_type": "code",
   "execution_count": 13,
   "id": "0b89bd8d-eece-4d08-a9ce-cddfbcb1655c",
   "metadata": {
    "tags": []
   },
   "outputs": [],
   "source": [
    "# <---WRITE CODE HERE--->"
   ]
  },
  {
   "cell_type": "markdown",
   "id": "f9864307-b4d5-4679-89f9-abe58a88160e",
   "metadata": {},
   "source": [
    "## Instance Methods\n",
    "\n",
    "Instance methods are functions that are defined inside a class and can only be called from an instance of that class. Just like `__init__()` an instance method’s first parameter is always **self**. An instance method has access to all the instance attributes that are defined in the class.  \n",
    "\n",
    "A sample structure of instance method:\n",
    "\n",
    "```python\n",
    "class HelloWorld:\n",
    "    \n",
    "    def __init__(self, args):\n",
    "        self.attr = args\n",
    "        \n",
    "    def foo():\n",
    "        print(\"this is instance method\")\n",
    "```"
   ]
  },
  {
   "cell_type": "code",
   "execution_count": 1,
   "id": "e71b821d-9d4c-4d06-b157-f733f66e7d40",
   "metadata": {
    "tags": []
   },
   "outputs": [],
   "source": [
    "class Employee:\n",
    "    \n",
    "    def __init__(self, employee_id, employee_name, employee_type):\n",
    "        self.employee_id = employee_id\n",
    "        self.employee_name = employee_name\n",
    "        self.employee_type = employee_type\n",
    "        \n",
    "    def activities(self):\n",
    "        if self.employee_type == \"developer\":\n",
    "            print(\"write code\")\n",
    "            print(\"test code\")\n",
    "            print(\"write documentation\")\n",
    "        \n",
    "        elif self.employee_type == \"manager\":\n",
    "            print(\"review code\")\n",
    "            print(\"review documentation\")\n",
    "            print(\"manage projects\")\n",
    "            \n",
    "        else:\n",
    "            print(\"come to office\")\n",
    "            \n",
    "    def get_seating_plan(self):\n",
    "        if self.employee_id % 2 == 0:\n",
    "            print(f\"employee {self.employee_name} will come to office on MONDAY and WEDNESDAY\")\n",
    "        else:\n",
    "            print(f\"employee {self.employee_name} will come to office on TUESDAY and THURSDAY\")\n",
    "    \n",
    "    # Instance methods can update the contents of instance attributes\n",
    "    def promote_employee(self):\n",
    "        if self.employee_type == \"developer\":\n",
    "            self.employee_type = \"manager\"\n",
    "            print(\"PROMOTED!\")\n",
    "            \n",
    "        else:\n",
    "            self.employee_type = \"director\"\n",
    "            print(\"PROMOTED\")\n",
    "            \n",
    "    # Instance methods can take arguments from the user when called\n",
    "    def get_project_access(self, designation):\n",
    "        if (designation == \"manager\" or designation == \"director\") and self.employee_type == designation:\n",
    "            print(f\"{self.employee_name} with ID {self.employee_id} has project level access\")\n",
    "        else:\n",
    "            print(\"ACCESS DENIED\")"
   ]
  },
  {
   "cell_type": "code",
   "execution_count": 2,
   "id": "315a511a-3062-420c-afb8-b360f5d1a9de",
   "metadata": {
    "tags": []
   },
   "outputs": [],
   "source": [
    "developer = Employee(1001, \"John\", \"developer\")\n",
    "\n",
    "# EXERCISE\n",
    "# Instantiate two classes manager and director with employee_designation as \"manager\" and \"director\"\n",
    "# <---WRTIE CODE HERE--->"
   ]
  },
  {
   "cell_type": "code",
   "execution_count": 3,
   "id": "515dc79d-ce9b-44a1-bd0b-57a8f3df43f5",
   "metadata": {
    "tags": []
   },
   "outputs": [
    {
     "data": {
      "text/plain": [
       "{'employee_id': 1001, 'employee_name': 'John', 'employee_type': 'developer'}"
      ]
     },
     "execution_count": 3,
     "metadata": {},
     "output_type": "execute_result"
    }
   ],
   "source": [
    "developer.__dict__"
   ]
  },
  {
   "cell_type": "code",
   "execution_count": null,
   "id": "f650b618-c24d-454b-8f50-0865c5967b6f",
   "metadata": {},
   "outputs": [],
   "source": [
    "# EXERCISE\n",
    "# Check the structure of manager object\n",
    "# <---WRITE CODE HERE--->"
   ]
  },
  {
   "cell_type": "code",
   "execution_count": 10,
   "id": "f09463f2-9f06-4204-9011-915906bece38",
   "metadata": {
    "tags": []
   },
   "outputs": [],
   "source": [
    "# EXERCISE\n",
    "# Check the structure of director object\n",
    "# <---WRITE CODE HERE--->"
   ]
  },
  {
   "cell_type": "code",
   "execution_count": 4,
   "id": "d77da22c-b766-4373-9422-ece6298ad5b1",
   "metadata": {
    "tags": []
   },
   "outputs": [
    {
     "name": "stdout",
     "output_type": "stream",
     "text": [
      "write code\n",
      "test code\n",
      "write documentation\n"
     ]
    }
   ],
   "source": [
    "# Calling the instance method activities()\n",
    "developer.activities()"
   ]
  },
  {
   "cell_type": "code",
   "execution_count": 11,
   "id": "941ee2b1-b346-4980-8435-f042467e938f",
   "metadata": {
    "tags": []
   },
   "outputs": [],
   "source": [
    "# EXERCISE\n",
    "# Call the instance method activities() on manager object\n",
    "# Call the instance method get_seating_plan() on director object"
   ]
  },
  {
   "cell_type": "code",
   "execution_count": 5,
   "id": "b90bfdaf-ca55-4eb9-90f9-6b116447cd55",
   "metadata": {
    "tags": []
   },
   "outputs": [
    {
     "name": "stdout",
     "output_type": "stream",
     "text": [
      "employee John will come to office on TUESDAY and THURSDAY\n"
     ]
    }
   ],
   "source": [
    "# Calling the instance method get_seating_plan()\n",
    "developer.get_seating_plan()"
   ]
  },
  {
   "cell_type": "code",
   "execution_count": 6,
   "id": "09c7face-e0fe-450b-baa7-0f0c9b15d9e6",
   "metadata": {
    "tags": []
   },
   "outputs": [
    {
     "name": "stdout",
     "output_type": "stream",
     "text": [
      "ACCESS DENIED\n",
      "ACCESS DENIED\n"
     ]
    }
   ],
   "source": [
    "# Calling the instance method get_project_access()\n",
    "developer.get_project_access(\"developer\")\n",
    "developer.get_project_access(\"manager\")"
   ]
  },
  {
   "cell_type": "code",
   "execution_count": 7,
   "id": "d10c9d7b-6f31-4e8b-9e2c-f6632b7b385f",
   "metadata": {
    "tags": []
   },
   "outputs": [
    {
     "name": "stdout",
     "output_type": "stream",
     "text": [
      "PROMOTED!\n"
     ]
    }
   ],
   "source": [
    "# Calling the instance method promote_employee()\n",
    "developer.promote_employee()"
   ]
  },
  {
   "cell_type": "code",
   "execution_count": 8,
   "id": "5fa6323a-54c8-4557-8778-e807cabc015b",
   "metadata": {
    "tags": []
   },
   "outputs": [
    {
     "data": {
      "text/plain": [
       "{'employee_id': 1001, 'employee_name': 'John', 'employee_type': 'manager'}"
      ]
     },
     "execution_count": 8,
     "metadata": {},
     "output_type": "execute_result"
    }
   ],
   "source": [
    "# View the object structure to verify if the employee got promoted\n",
    "developer.__dict__"
   ]
  },
  {
   "cell_type": "code",
   "execution_count": 9,
   "id": "bbdb544e-41a8-4794-aafc-d026709dec8d",
   "metadata": {
    "tags": []
   },
   "outputs": [
    {
     "name": "stdout",
     "output_type": "stream",
     "text": [
      "ACCESS DENIED\n",
      "John with ID 1001 has project level access\n",
      "ACCESS DENIED\n"
     ]
    }
   ],
   "source": [
    "# Check for project access\n",
    "developer.get_project_access(\"developer\")\n",
    "developer.get_project_access(\"manager\")\n",
    "developer.get_project_access(\"director\")"
   ]
  },
  {
   "cell_type": "code",
   "execution_count": null,
   "id": "b2679fa8-0753-4368-b012-a061836f9f4e",
   "metadata": {},
   "outputs": [],
   "source": [
    "# EXERCISE\n",
    "# Call the method get_project_access() with different arguments on manager and director object \n",
    "# <---WRITE CODE HERE--->"
   ]
  },
  {
   "cell_type": "code",
   "execution_count": null,
   "id": "54120d11-6d20-45ce-a07e-0c9ded7050ee",
   "metadata": {},
   "outputs": [],
   "source": [
    "# EXERCISE\n",
    "# Call the method promote_employee() on manager object and print the object dict\n",
    "# <---WRITE CODE HERE--->"
   ]
  },
  {
   "cell_type": "markdown",
   "id": "34b28f1d-0c5b-4de4-b104-13e4c485a27d",
   "metadata": {},
   "source": [
    "### Quiz\n",
    "\n",
    "##### Create a class **Student** with the following structure:\n",
    "- Instance variables `student_name` `student_id` `student_type` and `marks`\n",
    "    - Instance variable `student_type` is initialized with **default** parameters and set to **junior**\n",
    "    - Instance variable `marks` is a list of 5 non-zero integers not exceeding 100\n",
    "- Instance methods `student_activities()` `requires_extra_class()` `update_scores()` and `promote_student()`\n",
    "    - Instance method `requires_extra_class()` returns true if the average score of a student is below 40\n",
    "    - Instance method `update_scores()` will take an argument as list and update the scores \n",
    "    - Instance method `student_activities()` will return different set of activities based on the following student types: **junior**, **senior**, **monitor**, **captain**\n",
    "    - Instance method `promote_student()` will take an argument and promote the students (logic is left to developer)\n",
    "    \n",
    "##### Instantiate multiple objects of the **Student** class based on the student types and call the different methods. Print the object dict for every object  \n",
    "##### Promote the students and call the instance methods "
   ]
  },
  {
   "cell_type": "code",
   "execution_count": 12,
   "id": "343a32a3-5df1-4b86-9c5f-655de4590942",
   "metadata": {
    "tags": []
   },
   "outputs": [],
   "source": [
    "# <---WRITE CODE HERE--->"
   ]
  },
  {
   "cell_type": "markdown",
   "id": "ec75785a-d471-4c54-a9a4-0fff7eeb84b1",
   "metadata": {},
   "source": [
    "## Inheritance\n",
    "\n",
    "Inheritance is the process by which one class takes on the attributes and methods of another. Newly formed classes are called **child classes**, and the classes that child classes are derived from are called **parent classes**.  \n",
    "\n",
    "Child classes can override or extend the attributes and methods of parent classes. In other words, child classes inherit all of the parent’s attributes and methods but can also specify attributes and methods that are unique to themselves.  \n",
    "\n",
    "To inherit the properties of the parent class in Python, the child class is wrapped around paranthesis `()` and the parent class is provided inside the child class. To instantiate the parent class attributes from the child class, the `super()` method is called on the `__init__()` method with only the properties of the parent class being passed.   \n",
    "\n",
    "To initialize properties of the child class the attributes are initialized as normal. Consider the below example:\n",
    "\n",
    "```python\n",
    "# Parent class definition\n",
    "class Hello:\n",
    "    def __init__(self, var):\n",
    "        self.parent_attribute = var\n",
    "        \n",
    "# Child class definition\n",
    "class HelloWorld(Hello):\n",
    "    \n",
    "    # Initializing the child class object\n",
    "    def __init__(self, var, another_var):\n",
    "        \n",
    "        # The super() method is used inside the __init__() method of the child class\n",
    "        # It will only initialize the parent object Hello\n",
    "        super().__init__(var)\n",
    "        \n",
    "        # The attributes of HelloWorld are initialized like any other class\n",
    "        self.child_attribute = another_var\n",
    "        \n",
    "# Instantiating the object\n",
    "obj = HelloWorld(\"parent\", \"child\")\n",
    "```\n",
    "\n",
    "#### Note\n",
    "- The child class inherits **all** the attributes and methods of the parent class\n",
    "- The child class can modify any of the inherited properties and also add it's own properties\n",
    "- Inheritance is uni-directional in nature with the information flowing from Parent -> Child; this means that any changes to child class will not refelect in parent class but any changes to parent class will reflect in every child class that inherited from it\n",
    "\n",
    "![inheritance-example](../images/inheritance.svg)"
   ]
  },
  {
   "cell_type": "code",
   "execution_count": 34,
   "id": "db4324e9-3f1c-4ab0-8956-9d09e6ccb75c",
   "metadata": {
    "tags": []
   },
   "outputs": [],
   "source": [
    "# Create the Animal class\n",
    "class Animal:\n",
    "    \n",
    "    def __init__(self, species, diet, habitat):\n",
    "        self.species = species\n",
    "        self.diet = diet\n",
    "        self.habitat = habitat\n",
    "        \n",
    "    def sound(self, sound):\n",
    "        print(f\"{self.species} says {sound}\")\n",
    "        \n",
    "    def activity(self, action):\n",
    "        print(f\"{self.species} spends a lot of time {action}\")"
   ]
  },
  {
   "cell_type": "code",
   "execution_count": 35,
   "id": "6a81f941-b592-469d-ad3e-f74c1f55c67e",
   "metadata": {
    "tags": []
   },
   "outputs": [
    {
     "data": {
      "text/plain": [
       "mappingproxy({'__module__': '__main__',\n",
       "              '__init__': <function __main__.Animal.__init__(self, species, diet, habitat)>,\n",
       "              'sound': <function __main__.Animal.sound(self, sound)>,\n",
       "              'activity': <function __main__.Animal.activity(self, action)>,\n",
       "              '__dict__': <attribute '__dict__' of 'Animal' objects>,\n",
       "              '__weakref__': <attribute '__weakref__' of 'Animal' objects>,\n",
       "              '__doc__': None})"
      ]
     },
     "execution_count": 35,
     "metadata": {},
     "output_type": "execute_result"
    }
   ],
   "source": [
    "Animal.__dict__"
   ]
  },
  {
   "cell_type": "code",
   "execution_count": 29,
   "id": "37baa25e-e71a-4e57-909b-b1ab617d6fe9",
   "metadata": {
    "tags": []
   },
   "outputs": [
    {
     "data": {
      "text/plain": [
       "{'species': 'tiger', 'diet': 'carnivore', 'habitat': 'jungle'}"
      ]
     },
     "execution_count": 29,
     "metadata": {},
     "output_type": "execute_result"
    }
   ],
   "source": [
    "# Instantiate objects tiger of Animal class\n",
    "tiger = Animal(\"tiger\", \"carnivore\", \"jungle\")\n",
    "tiger.__dict__"
   ]
  },
  {
   "cell_type": "code",
   "execution_count": 8,
   "id": "21732ca7-c4dd-42f4-9cd3-cd299f7c314f",
   "metadata": {
    "tags": []
   },
   "outputs": [
    {
     "name": "stdout",
     "output_type": "stream",
     "text": [
      "tiger says growl\n",
      "tiger spends a lot of time hunting\n"
     ]
    }
   ],
   "source": [
    "# Call the instance methods sound() and activity() on tiger object\n",
    "tiger.sound(\"growl\")\n",
    "tiger.activity(\"hunting\")"
   ]
  },
  {
   "cell_type": "code",
   "execution_count": 10,
   "id": "b56e6382-dfca-41a6-9c3f-8333f7b8f72c",
   "metadata": {
    "tags": []
   },
   "outputs": [],
   "source": [
    "# EXERCISE\n",
    "# Create the labrador object as per the above image\n",
    "# Call the instance methods sound() and activity() on labrador object\n",
    "# <---WRITE CODE HERE--->"
   ]
  },
  {
   "cell_type": "code",
   "execution_count": 36,
   "id": "97589cd7-121e-4f47-9350-8aa8aca46c4e",
   "metadata": {
    "tags": []
   },
   "outputs": [],
   "source": [
    "# Create the Dog class that inherits from the Animal class\n",
    "class Dog(Animal):\n",
    "    \n",
    "    # The 'pass' keyword denotes code will go here in the future\n",
    "    # Allows us to test code without breaking them\n",
    "    # Since Dog inherits from Animal it has complete access to all it's properties\n",
    "    pass"
   ]
  },
  {
   "cell_type": "code",
   "execution_count": 37,
   "id": "efea2ff0-a3e5-4298-b201-27776d9945f3",
   "metadata": {
    "tags": []
   },
   "outputs": [
    {
     "data": {
      "text/plain": [
       "mappingproxy({'__module__': '__main__', '__doc__': None})"
      ]
     },
     "execution_count": 37,
     "metadata": {},
     "output_type": "execute_result"
    }
   ],
   "source": [
    "Dog.__dict__"
   ]
  },
  {
   "cell_type": "code",
   "execution_count": 14,
   "id": "7fe6efbc-cbf5-4337-a348-6c1f8f14a49f",
   "metadata": {
    "tags": []
   },
   "outputs": [
    {
     "data": {
      "text/plain": [
       "{'species': 'dog', 'diet': 'omnivore', 'habitat': 'domestic'}"
      ]
     },
     "execution_count": 14,
     "metadata": {},
     "output_type": "execute_result"
    }
   ],
   "source": [
    "# Recreating the labrador object with inheritance\n",
    "labrador = Dog(\"dog\", \"omnivore\", \"domestic\")\n",
    "labrador.__dict__"
   ]
  },
  {
   "cell_type": "code",
   "execution_count": 15,
   "id": "243b0637-cb91-4398-9c3a-f5944580060f",
   "metadata": {
    "tags": []
   },
   "outputs": [
    {
     "name": "stdout",
     "output_type": "stream",
     "text": [
      "dog says woof\n",
      "dog spends a lot of time guarding the house\n"
     ]
    }
   ],
   "source": [
    "# Dog class objects also have access to instance methods of Animal (parent class)\n",
    "labrador.sound(\"woof\")\n",
    "labrador.activity(\"guarding the house\")"
   ]
  },
  {
   "cell_type": "code",
   "execution_count": 38,
   "id": "b5467800-6f3f-4709-b523-39ad6503438f",
   "metadata": {
    "tags": []
   },
   "outputs": [],
   "source": [
    "# Creating the Dog class as per the image \n",
    "# Inherit the contents of Animal class\n",
    "# Extend the features of it's own class\n",
    "class Dog(Animal):\n",
    "    \n",
    "    # Use the super() method to instantiate the parent object\n",
    "    def __init__(self, species, diet, habitat, breed, price, lifespan):\n",
    "        super().__init__(species, diet, habitat)\n",
    "        self.breed = breed\n",
    "        self.price = price\n",
    "        self.lifespan = lifespan\n",
    "        \n",
    "    # Ignore the methods sound()\n",
    "    \n",
    "    # Add new instance methods for Dog class\n",
    "    def guard(self, is_guard):\n",
    "        if is_guard:\n",
    "            print(f\"{self.breed} of species {self.species} is a guard dog\")\n",
    "        else:\n",
    "            print(f\"{self.breed} of species {self.species} is a not a guard dog\")\n",
    "        \n",
    "    def hunt(self, is_trained):\n",
    "        if is_trained:\n",
    "            print(f\"{self.breed} of species {self.species} is a hunting dog\")\n",
    "        else:\n",
    "            print(f\"{self.breed} of species {self.species} is not a hunting dog\")\n",
    "            \n",
    "    # Modify the activity() instance method inheirted from parent class\n",
    "    # This will not affect the original method in Animal class\n",
    "    def activity(self, action):\n",
    "        print(f\"{self.species} breed {self.breed} spends a lot of time {action}\")"
   ]
  },
  {
   "cell_type": "code",
   "execution_count": 39,
   "id": "bd261856-3853-4657-9c05-92d2180c905a",
   "metadata": {
    "tags": []
   },
   "outputs": [
    {
     "data": {
      "text/plain": [
       "mappingproxy({'__module__': '__main__',\n",
       "              '__init__': <function __main__.Dog.__init__(self, species, diet, habitat, breed, price, lifespan)>,\n",
       "              'guard': <function __main__.Dog.guard(self, is_guard)>,\n",
       "              'hunt': <function __main__.Dog.hunt(self, is_trained)>,\n",
       "              'activity': <function __main__.Dog.activity(self, action)>,\n",
       "              '__doc__': None})"
      ]
     },
     "execution_count": 39,
     "metadata": {},
     "output_type": "execute_result"
    }
   ],
   "source": [
    "Dog.__dict__"
   ]
  },
  {
   "cell_type": "code",
   "execution_count": 19,
   "id": "311cc2e3-b8b3-489a-bcb4-15252ef25899",
   "metadata": {
    "tags": []
   },
   "outputs": [
    {
     "data": {
      "text/plain": [
       "{'species': 'dog',\n",
       " 'diet': 'herbivore',\n",
       " 'habitat': 'domestic',\n",
       " 'breed': 'chihuahua',\n",
       " 'price': 'expensive',\n",
       " 'lifespan': 10}"
      ]
     },
     "execution_count": 19,
     "metadata": {},
     "output_type": "execute_result"
    }
   ],
   "source": [
    "# Create object chihuahua of the class Dog \n",
    "chihuahua = Dog(\"dog\", \"herbivore\", \"domestic\", \"chihuahua\", \"expensive\", 10)\n",
    "chihuahua.__dict__"
   ]
  },
  {
   "cell_type": "code",
   "execution_count": 20,
   "id": "28a13f59-f868-401c-8fb8-a35c003ac89c",
   "metadata": {
    "tags": []
   },
   "outputs": [
    {
     "name": "stdout",
     "output_type": "stream",
     "text": [
      "dog says woof\n",
      "dog breed chihuahua spends a lot of time relaxing\n"
     ]
    }
   ],
   "source": [
    "# Call the parent class instance methods\n",
    "chihuahua.sound(\"woof\")\n",
    "chihuahua.activity(\"relaxing\")"
   ]
  },
  {
   "cell_type": "code",
   "execution_count": 21,
   "id": "aa2ad2ef-7eda-423c-b54c-494463d2433e",
   "metadata": {
    "tags": []
   },
   "outputs": [],
   "source": [
    "# EXERCISE\n",
    "# Instantiate any object for Animal class and call the activity() method "
   ]
  },
  {
   "cell_type": "code",
   "execution_count": 28,
   "id": "4da78a0e-a30d-41f4-b9c5-cde2a2b1ec76",
   "metadata": {
    "tags": []
   },
   "outputs": [
    {
     "name": "stdout",
     "output_type": "stream",
     "text": [
      "chihuahua of species dog is a not a guard dog\n",
      "chihuahua of species dog is not a hunting dog\n"
     ]
    }
   ],
   "source": [
    "# Call the Dog class instance methods\n",
    "chihuahua.guard(False)\n",
    "chihuahua.hunt(False)"
   ]
  },
  {
   "cell_type": "code",
   "execution_count": 40,
   "id": "1c2af2ba-7488-4a57-b38a-c0dbac07cf40",
   "metadata": {
    "tags": []
   },
   "outputs": [],
   "source": [
    "# EXERCISE\n",
    "# Instantiate any object from the Dog class and call the activity() method\n",
    "# <---WRITE CODE HERE--->"
   ]
  },
  {
   "cell_type": "markdown",
   "id": "05370838-a016-4819-b51b-bd9d5e3a8fa6",
   "metadata": {},
   "source": [
    "### Quiz\n",
    "##### Create a class **Cow** that inherits from the class **Animal** with the following properties:\n",
    "- It has additional instance variables `breed` and `is_domesticated`\n",
    "- The attribute `is_domesticated` should be initialized with default parameters set to **True**\n",
    "- It should have instance methods `graze()` and `farming()` - both implementations are left to the developer\n",
    "- It should override the parent class method `activity()` but keep the method `sound()` unchanged\n",
    "- Instantiate multiple breeds of the Cow object and check the outputs"
   ]
  },
  {
   "cell_type": "markdown",
   "id": "cc196bd0-dbce-44f6-ba15-604d49577214",
   "metadata": {},
   "source": [
    "### An Overview Of `super()`\n",
    "\n",
    "- `super()` alone returns a temporary object of the superclass that then allows you to call that superclass’s methods\n",
    "- Calling the previously built methods with `super()` saves you from needing to rewrite those methods in your subclass, and allows you to swap out superclasses with minimal code changes\n",
    "- The `super()` class is often used to call the __init__() of the parent class, allowing you to use it in the child class without repeating code\n",
    "\n",
    "Consider the below code:\n",
    "\n",
    "```python\n",
    "class Rectangle:\n",
    "    def __init__(self, length, width):\n",
    "        self.length = length\n",
    "        self.width = width\n",
    "\n",
    "    def area(self):\n",
    "        return self.length * self.width\n",
    "\n",
    "    def perimeter(self):\n",
    "        return 2 * self.length + 2 * self.width\n",
    "\n",
    "class Square:\n",
    "    def __init__(self, length):\n",
    "        self.length = length\n",
    "\n",
    "    def area(self):\n",
    "        return self.length * self.length\n",
    "\n",
    "    def perimeter(self):\n",
    "        return 4 * self.length\n",
    "```\n",
    "\n",
    "The above classes can be used as: \n",
    "\n",
    "```shell\n",
    ">>> square = Square(4)\n",
    ">>> square.area()\n",
    "16\n",
    ">>> rectangle = Rectangle(2, 4)\n",
    ">>> rectangle.area()\n",
    "8\n",
    "```"
   ]
  },
  {
   "cell_type": "code",
   "execution_count": 72,
   "id": "57f95a63-45ce-446c-9ce0-036a9e2e1ee0",
   "metadata": {
    "tags": []
   },
   "outputs": [],
   "source": [
    "class Rectangle:\n",
    "    def __init__(self, length, width):\n",
    "        self.length = length\n",
    "        self.width = width\n",
    "\n",
    "    def area(self):\n",
    "        return self.length * self.width\n",
    "\n",
    "    def perimeter(self):\n",
    "        return 2 * self.length + 2 * self.width\n",
    "\n",
    "# Here we declare that the Square class inherits from the Rectangle class\n",
    "class Square(Rectangle):\n",
    "    def __init__(self, length):\n",
    "        super().__init__(length, length)"
   ]
  },
  {
   "cell_type": "code",
   "execution_count": 73,
   "id": "73526e7a-6bc1-41bf-a5ac-1df40d1fe141",
   "metadata": {
    "tags": []
   },
   "outputs": [
    {
     "data": {
      "text/plain": [
       "16"
      ]
     },
     "execution_count": 73,
     "metadata": {},
     "output_type": "execute_result"
    }
   ],
   "source": [
    "square = Square(4)\n",
    "square.area()"
   ]
  },
  {
   "cell_type": "code",
   "execution_count": 75,
   "id": "1bc55af1-aa41-4b0c-b86c-94dfa1d60c0e",
   "metadata": {
    "tags": []
   },
   "outputs": [],
   "source": [
    "# Create a class Cube that inherits from the class Square\n",
    "# This is multi-level inheritance because Square itself inherits from Rectangle\n",
    "class Cube(Square):\n",
    "    def surface_area(self):\n",
    "        face_area = super().area()\n",
    "        return face_area * 6\n",
    "\n",
    "    def volume(self):\n",
    "        face_area = super().area()\n",
    "        return face_area * self.length"
   ]
  },
  {
   "cell_type": "code",
   "execution_count": 76,
   "id": "490cffbe-0b72-44d7-ab60-4eb36423152b",
   "metadata": {
    "tags": []
   },
   "outputs": [],
   "source": [
    "# Instantiate the cube object\n",
    "cube = Cube(3)"
   ]
  },
  {
   "cell_type": "code",
   "execution_count": 78,
   "id": "18156188-a452-4c32-b171-776431835922",
   "metadata": {
    "tags": []
   },
   "outputs": [
    {
     "name": "stdout",
     "output_type": "stream",
     "text": [
      "surface area of cube 54\n",
      "volume of cube 27\n"
     ]
    }
   ],
   "source": [
    "# Call the instance methods of cube\n",
    "print(f\"surface area of cube {cube.surface_area()}\")\n",
    "print(f\"volume of cube {cube.volume()}\")"
   ]
  },
  {
   "cell_type": "code",
   "execution_count": 81,
   "id": "cec5bea0-bc8b-413a-bcc1-8c8b9c98641d",
   "metadata": {
    "tags": []
   },
   "outputs": [
    {
     "name": "stdout",
     "output_type": "stream",
     "text": [
      "area of cube 9\n",
      "perimeter of cube 12\n"
     ]
    }
   ],
   "source": [
    "# Call the parent class methods of cube\n",
    "print(f\"area of cube {cube.area()}\")\n",
    "print(f\"perimeter of cube {cube.perimeter()}\")"
   ]
  },
  {
   "cell_type": "markdown",
   "id": "8ac0cdcb-afbb-4b21-847e-dc52eb580261",
   "metadata": {},
   "source": [
    "### Quiz\n",
    "##### Create a class **Circle**, **Sphere** and **Cylinder** as per the following requirements:\n",
    "- The class **Sphere** and class **Cylinder** inherits from the class circle\n",
    "- The class **Circle** and **Sphere** takes only one instance variable - `radius`\n",
    "- The class **Cylinder** takes two instance variables - `radius` and `height`\n",
    "- The class **Circle** has a class attribute `PI` which is initialized to 3.14\n",
    "- The **Circle** class contains methods `area()` and `circumference()` and return appropriate results \n",
    "    - area of a circle: ${\\pi*radius^2}$\n",
    "    - circumference of a circle: ${2*\\pi*radius}$\n",
    "- The **Sphere** and **Cylinder** class contains methods `volume()` and `surface_area()`\n",
    "    - volume of a sphere: ${\\frac{4}{3}*\\pi*radius^3}$\n",
    "    - volume of a cylinder: ${\\pi*radius^2*height}$\n",
    "    - surface area of a sphere: ${4*\\pi*radius^2}$\n",
    "    - volume of a sphere: ${2*\\pi*radius*height + 2*\\pi*radius^2}$\n",
    "    \n",
    "##### Instantiate objects `sphere` `cylinder` and `circle` for the above objects and print the area, circumference, surface area and volume of all"
   ]
  },
  {
   "cell_type": "markdown",
   "id": "36897e68-c588-4929-8e98-317699dce3d0",
   "metadata": {},
   "source": [
    "### Multi Level Inheritance\n",
    "\n",
    "In multi level inheritance, one class inherits from another class which in turn inheirts from another class in a cascading way. In effect, for a three-level inheritence, the topmost class is the _grandparent_ whereas the middle class that inherits from _grandparent_ is called _parent_ and the lowest class on the level which inherits from the _parent_ is the _child_ class.  \n",
    "\n",
    "In this type of inheritance the inheriting class will receive **all the properties** of every class above it (for example the child class receives the properties of the parent and the grandparent classes). \n",
    "\n",
    "![multi-inheritance-example](../images/multi_inheritance.svg)"
   ]
  },
  {
   "cell_type": "code",
   "execution_count": 1,
   "id": "6eae99b9",
   "metadata": {
    "tags": []
   },
   "outputs": [],
   "source": [
    "class Hello:\n",
    "    \n",
    "    def __init__(self, var):\n",
    "        self.instance_1 = var\n",
    "        \n",
    "    def f(self):\n",
    "        print(f\"instance_1: {self.instance_1}\")\n",
    "        \n",
    "class HelloWorld(Hello):\n",
    "    \n",
    "    def __init__(self, var_1, var_2):\n",
    "        super().__init__(var_1)\n",
    "        self.instance_2 = var_2\n",
    "        \n",
    "    def g(self):\n",
    "        super().f()\n",
    "        print(f\"instance_2: {self.instance_2}\")\n",
    "        \n",
    "class HelloHelloWorld(HelloWorld):\n",
    "    \n",
    "    def __init__(self, var_1, var_2, var_3):\n",
    "        super().__init__(var_1, var_2)\n",
    "        self.instance_3 = var_3\n",
    "        \n",
    "    def h(self):\n",
    "        super().g()\n",
    "        print(f\"instance_3: {self.instance_3}\")"
   ]
  },
  {
   "cell_type": "code",
   "execution_count": 2,
   "id": "2428341a",
   "metadata": {
    "tags": []
   },
   "outputs": [
    {
     "name": "stdout",
     "output_type": "stream",
     "text": [
      "instance_1: grandparent\n"
     ]
    }
   ],
   "source": [
    "ob1 = Hello(\"grandparent\")\n",
    "ob1.f()"
   ]
  },
  {
   "cell_type": "code",
   "execution_count": 3,
   "id": "7416912b",
   "metadata": {
    "tags": []
   },
   "outputs": [
    {
     "name": "stdout",
     "output_type": "stream",
     "text": [
      "instance_1: grandparent\n"
     ]
    }
   ],
   "source": [
    "ob2 = HelloWorld(\"grandparent\", \"parent\")\n",
    "ob2.f()"
   ]
  },
  {
   "cell_type": "code",
   "execution_count": 4,
   "id": "6ffb10f0",
   "metadata": {
    "tags": []
   },
   "outputs": [
    {
     "name": "stdout",
     "output_type": "stream",
     "text": [
      "instance_1: grandparent\n",
      "instance_2: parent\n"
     ]
    }
   ],
   "source": [
    "ob2.g()"
   ]
  },
  {
   "cell_type": "code",
   "execution_count": 5,
   "id": "e3952d1f-4e02-44fb-8b17-746673f74c78",
   "metadata": {
    "tags": []
   },
   "outputs": [
    {
     "name": "stdout",
     "output_type": "stream",
     "text": [
      "instance_1: grandparent\n"
     ]
    }
   ],
   "source": [
    "ob3 = HelloHelloWorld(\"grandparent\", \"parent\", \"child\")\n",
    "ob3.f()"
   ]
  },
  {
   "cell_type": "code",
   "execution_count": 6,
   "id": "db7428dd-8634-40b6-a03c-fbba9af1f31a",
   "metadata": {
    "tags": []
   },
   "outputs": [
    {
     "name": "stdout",
     "output_type": "stream",
     "text": [
      "instance_1: grandparent\n",
      "instance_2: parent\n"
     ]
    }
   ],
   "source": [
    "ob3.g()"
   ]
  },
  {
   "cell_type": "code",
   "execution_count": 7,
   "id": "31440bdf-7832-4737-bef8-d24f599f3af5",
   "metadata": {
    "tags": []
   },
   "outputs": [
    {
     "name": "stdout",
     "output_type": "stream",
     "text": [
      "instance_1: grandparent\n",
      "instance_2: parent\n",
      "instance_3: child\n"
     ]
    }
   ],
   "source": [
    "ob3.h()"
   ]
  },
  {
   "cell_type": "markdown",
   "id": "7768ad4b-21ac-4b5c-b350-7a89e1334bd5",
   "metadata": {},
   "source": [
    "### Quiz\n",
    "- ##### Modify the class **Cylinder** to inherit from the class **Sphere** instead\n",
    "- ##### Override the method `surface_area()` of the parent class **Sphere** in the child class **Cylinder** to calculate the surface area"
   ]
  },
  {
   "cell_type": "markdown",
   "id": "4e8c64f4-344b-44df-9bdb-24015c596935",
   "metadata": {},
   "source": [
    "### Quiz\n",
    "##### Create a new class **HuntingDog** that inherits from the parent class **Dog**. The class **Dog** itself inherits from the class **Animal**. Instantiate at least two objects of each class, override required methods and use `super()` wherever required.\n",
    "\n",
    "##### Note\n",
    "- Method overriding is left to the discretion of the developers\n",
    "- Refer the above image in **multi-level inheritance** section for an idea on the attributes and methods to design the classes"
   ]
  },
  {
   "cell_type": "markdown",
   "id": "0bbcaef6-5a41-407f-833f-e34859e07b29",
   "metadata": {},
   "source": [
    "## Conclusion\n",
    "\n",
    "### Why Object Oriented Programming?\n",
    "\n",
    "Let us assume we have employee data for 1000s of employees in a company. Each employee data resides in a list as follows:\n",
    "\n",
    "```python\n",
    "bob = ['bob sinclair', 1001, 'bob@example.com', 'IT']\n",
    "jane = ['jane doe', 4032, 'jane@example.com', 'IT']\n",
    "robby = ['robby smith', 3000, 'rsmith@example.com', 'SALES']\n",
    "```\n",
    "\n",
    "Now, it becomes difficult to keep a track of all employee data like this. It becomes even more difficult when a new attribute has to be added because then the developer has to manually iterate over every list and add the new attribute. Moreover, it is up to the developer to remember the order of the attributes stored in the list and any list with incorrect order of attributes will lead to unexpected errors. \n",
    "\n",
    "A better approach will be:  \n",
    "\n",
    "```python\n",
    "class Employee:\n",
    "    \n",
    "    def __init__(self, name, eid, email, dept, **kwargs):\n",
    "        self.name = name\n",
    "        self.eid = eid\n",
    "        self.email = email\n",
    "        self.dept = dept\n",
    "        \n",
    "        for key, value in kwargs.items():\n",
    "            self.__setattr__(key, value)\n",
    "        \n",
    "bob = Employee('bob sinclair', 1001, 'bob@example.com', 'IT')\n",
    "jane = Employee('jane doe', 4032, 'jane@example.com', 'IT')\n",
    "```  \n",
    "\n",
    "If in the future new employee attributes are to be added they can simply be added as: \n",
    "\n",
    "```python\n",
    "bob = Employee('bob sinclair', 1001, 'bob@example.com', 'IT', **{\"manager\": \"kim\", \"status\": \"full-time\"})\n",
    "jane = Employee('jane doe', 4032, 'jane@example.com', 'IT', **{\"status\": \"contractor\"})\n",
    "```"
   ]
  },
  {
   "cell_type": "code",
   "execution_count": 8,
   "id": "b9675803-10b4-47b6-9228-39d79d144c79",
   "metadata": {
    "tags": []
   },
   "outputs": [],
   "source": [
    "class Employee:\n",
    "    \n",
    "    def __init__(self, name, eid, email, dept, **kwargs):\n",
    "        self.name = name\n",
    "        self.eid = eid\n",
    "        self.email = email\n",
    "        self.dept = dept\n",
    "        \n",
    "        for key, value in kwargs.items():\n",
    "            self.__setattr__(key, value)"
   ]
  },
  {
   "cell_type": "code",
   "execution_count": 12,
   "id": "6163e3d5-13d3-4a8b-9ba6-dbf05553e642",
   "metadata": {
    "tags": []
   },
   "outputs": [
    {
     "data": {
      "text/plain": [
       "{'name': 'bob sinclair', 'eid': 1001, 'email': 'bob@example.com', 'dept': 'IT'}"
      ]
     },
     "execution_count": 12,
     "metadata": {},
     "output_type": "execute_result"
    }
   ],
   "source": [
    "bob = Employee('bob sinclair', 1001, 'bob@example.com', 'IT')\n",
    "bob.__dict__"
   ]
  },
  {
   "cell_type": "code",
   "execution_count": 13,
   "id": "83e3afb9-c057-4fd6-8824-7a02f5f50e46",
   "metadata": {
    "tags": []
   },
   "outputs": [
    {
     "data": {
      "text/plain": [
       "{'name': 'jane doe', 'eid': 4032, 'email': 'jane@example.com', 'dept': 'IT'}"
      ]
     },
     "execution_count": 13,
     "metadata": {},
     "output_type": "execute_result"
    }
   ],
   "source": [
    "jane = Employee('jane doe', 4032, 'jane@example.com', 'IT')\n",
    "jane.__dict__"
   ]
  },
  {
   "cell_type": "code",
   "execution_count": 14,
   "id": "a52991b2-6f55-4b38-b37c-6362e6c8ceb0",
   "metadata": {
    "tags": []
   },
   "outputs": [
    {
     "data": {
      "text/plain": [
       "{'name': 'bob sinclair',\n",
       " 'eid': 1001,\n",
       " 'email': 'bob@example.com',\n",
       " 'dept': 'IT',\n",
       " 'manager': 'kim',\n",
       " 'status': 'full-time'}"
      ]
     },
     "execution_count": 14,
     "metadata": {},
     "output_type": "execute_result"
    }
   ],
   "source": [
    "bob = Employee('bob sinclair', 1001, 'bob@example.com', 'IT', **{\"manager\": \"kim\", \"status\": \"full-time\"})\n",
    "bob.__dict__"
   ]
  },
  {
   "cell_type": "code",
   "execution_count": 15,
   "id": "32f50ee1-3ae7-40ed-af8b-53194e365041",
   "metadata": {
    "tags": []
   },
   "outputs": [
    {
     "data": {
      "text/plain": [
       "{'name': 'jane doe',\n",
       " 'eid': 4032,\n",
       " 'email': 'jane@example.com',\n",
       " 'dept': 'IT',\n",
       " 'status': 'contractor'}"
      ]
     },
     "execution_count": 15,
     "metadata": {},
     "output_type": "execute_result"
    }
   ],
   "source": [
    "jane = Employee('jane doe', 4032, 'jane@example.com', 'IT', **{\"status\": \"contractor\"})\n",
    "jane.__dict__"
   ]
  },
  {
   "cell_type": "markdown",
   "id": "5a3885b8-d16c-49f3-bc5b-96eaa6343f12",
   "metadata": {},
   "source": [
    "### Important Links For Reference\n",
    "- [Real Python - Object Oriented Programming](https://realpython.com/python3-object-oriented-programming/)\n",
    "- [Real Python - Super Keyword](https://realpython.com/python-super/) "
   ]
  }
 ],
 "metadata": {
  "kernelspec": {
   "display_name": "Python 3 (ipykernel)",
   "language": "python",
   "name": "python3"
  },
  "language_info": {
   "codemirror_mode": {
    "name": "ipython",
    "version": 3
   },
   "file_extension": ".py",
   "mimetype": "text/x-python",
   "name": "python",
   "nbconvert_exporter": "python",
   "pygments_lexer": "ipython3",
   "version": "3.10.8"
  }
 },
 "nbformat": 4,
 "nbformat_minor": 5
}

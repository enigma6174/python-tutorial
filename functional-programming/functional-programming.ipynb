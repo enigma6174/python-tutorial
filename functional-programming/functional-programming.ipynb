{
 "cells": [
  {
   "cell_type": "markdown",
   "id": "30539da0-ee15-4d10-8b46-b66677376330",
   "metadata": {},
   "source": [
    "# Functional Programming\n",
    "\n",
    "**Functional programming** is a programming paradigm in which the primary method of computation is evaluation of functions. Functional programming typically plays a fairly small role in Python code. But it’s good to be familiar with it."
   ]
  },
  {
   "cell_type": "code",
   "execution_count": null,
   "id": "d230c5b2-9550-49e9-bd45-fb11633436f1",
   "metadata": {},
   "outputs": [],
   "source": []
  }
 ],
 "metadata": {
  "kernelspec": {
   "display_name": "Python 3 (ipykernel)",
   "language": "python",
   "name": "python3"
  },
  "language_info": {
   "codemirror_mode": {
    "name": "ipython",
    "version": 3
   },
   "file_extension": ".py",
   "mimetype": "text/x-python",
   "name": "python",
   "nbconvert_exporter": "python",
   "pygments_lexer": "ipython3",
   "version": "3.10.8"
  }
 },
 "nbformat": 4,
 "nbformat_minor": 5
}
